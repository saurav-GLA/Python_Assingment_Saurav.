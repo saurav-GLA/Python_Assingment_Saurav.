{
 "cells": [
  {
   "cell_type": "markdown",
   "id": "74a9306f-73fe-48be-b3ca-d3a68ac00dba",
   "metadata": {},
   "source": [
    "# Section A: Data Types & Control Flow"
   ]
  },
  {
   "cell_type": "code",
   "execution_count": 1,
   "id": "332d0153-8832-4b20-a0ca-f5af2dc8cbee",
   "metadata": {},
   "outputs": [
    {
     "name": "stdout",
     "output_type": "stream",
     "text": [
      "8\n"
     ]
    }
   ],
   "source": [
    "#1. Write a Python program to find the second largest number in a list without using the sort() method.\n",
    "a = [3,2,8,7,9,2,6]   #now only doing for positive value neg ke liye largest aur second largest ki value aur choti kar denge\n",
    "largest = 0\n",
    "sl = 0                                  \n",
    "for i in a:                  \n",
    "    if i > largest and largest==0:\n",
    "        largest = sl = i\n",
    "    elif i > largest:\n",
    "        sl = largest\n",
    "        largest = i\n",
    "    elif i > sl:\n",
    "        sl = i\n",
    "print(sl)"
   ]
  },
  {
   "cell_type": "code",
   "execution_count": 4,
   "id": "b3d979e9-15b5-4c50-bd07-c924aca4fa0c",
   "metadata": {},
   "outputs": [
    {
     "name": "stdout",
     "output_type": "stream",
     "text": [
      "[1, 1, 2, 2, 4, 5, 8, 8, 9, 9, 10, 12, 20]\n"
     ]
    },
    {
     "data": {
      "text/plain": [
       "[1, 2, 4, 5, 8, 9, 10, 12, 20]"
      ]
     },
     "execution_count": 4,
     "metadata": {},
     "output_type": "execute_result"
    }
   ],
   "source": [
    "#2. Remove duplicates from a list without using set() and return it in sorted order.\n",
    "a = [5,2,8,1,9,2,1,9,4,8,20,10,12]\n",
    "a.sort()\n",
    "print(a)\n",
    "n = len(a)\n",
    "i =0\n",
    "while i<n:\n",
    "    if i>0 and a[i] == a[i-1]:\n",
    "        del a[i]\n",
    "        n -= 1\n",
    "    else:\n",
    "        i += 1\n",
    "a"
   ]
  },
  {
   "cell_type": "code",
   "execution_count": 5,
   "id": "fcb5b690-ba36-45aa-adee-169c1d98f65a",
   "metadata": {},
   "outputs": [
    {
     "name": "stdout",
     "output_type": "stream",
     "text": [
      "Sum =  37\n",
      "Average =  5.285714285714286\n"
     ]
    }
   ],
   "source": [
    "#3. Find the sum and average of a list of numbers.\n",
    "a = [3,2,8,7,9,2,6]\n",
    "sum = 0\n",
    "for i in a:\n",
    "    sum += i\n",
    "print(\"Sum = \", sum)\n",
    "print(\"Average = \", sum/len(a))"
   ]
  },
  {
   "cell_type": "code",
   "execution_count": 11,
   "id": "9493753a-81fc-44e7-93b2-fa0c5d25ff49",
   "metadata": {},
   "outputs": [
    {
     "name": "stdout",
     "output_type": "stream",
     "text": [
      "True\n",
      "True\n",
      "False\n",
      "True\n"
     ]
    }
   ],
   "source": [
    "# 4. Create a program to check if a number is prime.\n",
    "def isPrime(n):\n",
    "    if(n != 2 and n%2 == 0):\n",
    "        return False\n",
    "    Flag = True\n",
    "    for i in range(2, n//2+1):\n",
    "        if(n%i == 0):\n",
    "            return False\n",
    "    return True                                     \n",
    "  \n",
    "print(isPrime(2))\n",
    "print(isPrime(3))\n",
    "print(isPrime(4))                    \n",
    "print(isPrime(5))"
   ]
  },
  {
   "cell_type": "code",
   "execution_count": null,
   "id": "503bd403-ab1f-45b4-b2ff-62cd01ef8484",
   "metadata": {},
   "outputs": [],
   "source": [
    "# 5. Count the number of vowels, consonants, digits, and special characters in a given string.  \n",
    "s = \"12@#$%abcdAEOILIOe3698aoosidFHSOFeosiu\"\n",
    "vowel = \"aeiouAEIOU\"\n",
    "digits = \"0123456789\"\n",
    "special_chars = string.punctuation                                                                                \n",
    "vow =0\n",
    "spe = 0\n",
    "dig = 0\n",
    "conso = 0\n",
    "for char in s:\n",
    "    if char.isalpha():\n",
    "        if char in vowel:\n",
    "            vow += 1\n",
    "        else:\n",
    "            conso += 1\n",
    "    elif char in special_chars:\n",
    "        spe += 1\n",
    "    elif char in dig:\n",
    "        dig += 1\n",
    "print(\"vowel = \", vow)\n",
    "print(\"consonents = \", conso)\n",
    "print(\"digits = \", dig)\n",
    "print(\"Special Characters = \", spe)"
   ]
  },
  {
   "cell_type": "code",
   "execution_count": 12,
   "id": "c846418c-6278-49c1-96dc-f4b927fe941e",
   "metadata": {},
   "outputs": [
    {
     "name": "stdout",
     "output_type": "stream",
     "text": [
      "1\n",
      "2\n",
      "3\n",
      "4\n",
      "5\n",
      "6\n",
      "7\n",
      "8\n",
      "9\n",
      "10\n",
      "11\n",
      "12\n",
      "13\n",
      "14\n",
      "15\n",
      "16\n",
      "17\n",
      "18\n",
      "19\n",
      "20\n",
      "21\n",
      "22\n",
      "23\n",
      "24\n",
      "25\n",
      "26\n",
      "27\n",
      "28\n",
      "29\n",
      "30\n",
      "31\n",
      "32\n",
      "33\n",
      "34\n",
      "35\n",
      "36\n",
      "37\n",
      "38\n",
      "39\n",
      "40\n",
      "41\n",
      "42\n",
      "43\n",
      "44\n",
      "45\n",
      "46\n",
      "47\n",
      "48\n",
      "49\n",
      "50\n",
      "51\n",
      "52\n",
      "53\n",
      "54\n",
      "55\n",
      "56\n",
      "57\n",
      "58\n",
      "59\n",
      "60\n",
      "61\n",
      "62\n",
      "63\n",
      "64\n",
      "65\n",
      "66\n",
      "67\n",
      "68\n",
      "69\n",
      "70\n",
      "71\n",
      "72\n",
      "73\n",
      "74\n",
      "75\n",
      "76\n",
      "77\n",
      "78\n",
      "79\n",
      "80\n",
      "81\n",
      "82\n",
      "83\n",
      "84\n",
      "85\n",
      "86\n",
      "87\n",
      "88\n",
      "89\n",
      "90\n",
      "91\n",
      "92\n",
      "93\n",
      "94\n",
      "95\n",
      "96\n",
      "97\n",
      "98\n",
      "99\n"
     ]
    }
   ],
   "source": [
    "# 6. Print all even numbers between 1 and 100 using a for loop.\n",
    "\n",
    "for i in range(1,100):\n",
    "    print(i)"
   ]
  },
  {
   "cell_type": "code",
   "execution_count": 13,
   "id": "488cbd83-17e6-4686-b6f1-9b267a913f01",
   "metadata": {},
   "outputs": [
    {
     "name": "stdin",
     "output_type": "stream",
     "text": [
      "Print table of :  5\n"
     ]
    },
    {
     "name": "stdout",
     "output_type": "stream",
     "text": [
      "5  x  1  =  5\n",
      "5  x  2  =  10\n",
      "5  x  3  =  15\n",
      "5  x  4  =  20\n",
      "5  x  5  =  25\n",
      "5  x  6  =  30\n",
      "5  x  7  =  35\n",
      "5  x  8  =  40\n",
      "5  x  9  =  45\n",
      "5  x  10  =  50\n"
     ]
    }
   ],
   "source": [
    "# 7. Write a program to print the multiplication table of a number entered by the user. \n",
    "table = int(input(\"Print table of : \"))\n",
    "for i in range(1, 11):\n",
    "    print(table,\" x \", i, \" = \", table*i)"
   ]
  },
  {
   "cell_type": "code",
   "execution_count": 14,
   "id": "c7744cbe-bdc9-4103-86bb-7252145302f4",
   "metadata": {},
   "outputs": [
    {
     "data": {
      "text/plain": [
       "[15, 30, 45, 60, 75, 90]"
      ]
     },
     "execution_count": 14,
     "metadata": {},
     "output_type": "execute_result"
    }
   ],
   "source": [
    "# 8. Create a list of numbers from 1 to 100 that are divisible by both 3 and 5.                                           \n",
    "list = []\n",
    "for i in range(1,100):\n",
    "    if i%3==0 and i%5==0:\n",
    "        list.append(i)\n",
    "list"
   ]
  },
  {
   "cell_type": "code",
   "execution_count": 18,
   "id": "c780a3f5-8a8b-4bdd-b059-9488f11df352",
   "metadata": {},
   "outputs": [
    {
     "name": "stdin",
     "output_type": "stream",
     "text": [
      "Enter a number : 1234\n"
     ]
    },
    {
     "name": "stdout",
     "output_type": "stream",
     "text": [
      "1234\n",
      "123\n",
      "12\n",
      "1\n",
      "4321\n"
     ]
    }
   ],
   "source": [
    "# 9. Take a number input and print its reverse.\n",
    "n = int(input(\"Enter a number :\"))\n",
    "rev = 0\n",
    "temp = n\n",
    "while temp>0:\n",
    "    print(temp)\n",
    "    d = temp%10\n",
    "    rev = (rev *10) + d\n",
    "    temp //= 10\n",
    "print(rev)"
   ]
  },
  {
   "cell_type": "code",
   "execution_count": 19,
   "id": "622802d7-ae6f-417b-aa51-e723928e6735",
   "metadata": {},
   "outputs": [
    {
     "name": "stdout",
     "output_type": "stream",
     "text": [
      "{'h': 1, 'a': 3, 'o': 3, 'i': 1, 'd': 3, 'j': 1, 'f': 2, 's': 1}\n"
     ]
    }
   ],
   "source": [
    "# 10. Count the frequency of each character in a string and store it in a dictionary.\n",
    "s = \"haoidjfadsoadof\"\n",
    "count = {}\n",
    "for i in s:\n",
    "    if i in count:\n",
    "        count[i] += 1\n",
    "    else:\n",
    "        count[i] = 1\n",
    "print(count)"
   ]
  },
  {
   "cell_type": "code",
   "execution_count": 25,
   "id": "9888e4bc-3636-410b-8f6b-9d5f390f7a77",
   "metadata": {},
   "outputs": [
    {
     "name": "stdout",
     "output_type": "stream",
     "text": [
      "[2, 3, 5, 7, 11, 13, 17, 19, 23, 29]\n"
     ]
    }
   ],
   "source": [
    "# 11. Write a Python program to generate the first n prime numbers. \n",
    "def isPrime(n):\n",
    "    if(n != 2 and n%2 == 0):\n",
    "        return False\n",
    "    Flag = True\n",
    "    for i in range(2, n//2+1):\n",
    "        if(n%i == 0):\n",
    "            return False\n",
    "    return True                      \n",
    "def genFirstNPrimes(n):\n",
    "    count = 0\n",
    "    i = 2\n",
    "    primes = []\n",
    "    while count != n:\n",
    "        if isPrime(i):\n",
    "            primes.append(i)\n",
    "            count += 1\n",
    "        i += 1\n",
    "    return primes\n",
    "print(genFirstNPrimes(10))               \n",
    "  "
   ]
  },
  {
   "cell_type": "code",
   "execution_count": 29,
   "id": "92264ca0-e8b9-4c87-a504-87293ad56bb2",
   "metadata": {},
   "outputs": [
    {
     "name": "stdout",
     "output_type": "stream",
     "text": [
      "121\n"
     ]
    },
    {
     "data": {
      "text/plain": [
       "True"
      ]
     },
     "execution_count": 29,
     "metadata": {},
     "output_type": "execute_result"
    }
   ],
   "source": [
    "# 12. Check whether a number is a palindrome or not.\n",
    "def isPalindrome(n):\n",
    "    rev = 0\n",
    "    temp = n\n",
    "    while temp>0:\n",
    "        d = temp%10\n",
    "        rev = rev*10 + d\n",
    "        temp //= 10\n",
    "    return rev==n\n",
    "isPalindrome(121)"
   ]
  },
  {
   "cell_type": "code",
   "execution_count": 32,
   "id": "d48957bc-b0af-4e9b-863d-8501c5f0022d",
   "metadata": {},
   "outputs": [
    {
     "data": {
      "text/plain": [
       "3"
      ]
     },
     "execution_count": 32,
     "metadata": {},
     "output_type": "execute_result"
    }
   ],
   "source": [
    "# 13. Count how many times a specific element appears in a list. \n",
    "def count(n, list):\n",
    "    cnt = 0\n",
    "    for i in list:\n",
    "        if i == n:\n",
    "            cnt += 1\n",
    "    return cnt\n",
    "list = [1,2,3,4,3,2,4,3,2,4,5,3,6]\n",
    "count(2, list)"
   ]
  },
  {
   "cell_type": "code",
   "execution_count": 35,
   "id": "8fdfc7e7-b9f0-41bf-8c6e-658be15047ab",
   "metadata": {},
   "outputs": [
    {
     "data": {
      "text/plain": [
       "[4,\n",
       " 16,\n",
       " 36,\n",
       " 64,\n",
       " 100,\n",
       " 144,\n",
       " 196,\n",
       " 256,\n",
       " 324,\n",
       " 400,\n",
       " 484,\n",
       " 576,\n",
       " 676,\n",
       " 784,\n",
       " 900,\n",
       " 1024,\n",
       " 1156,\n",
       " 1296,\n",
       " 1444,\n",
       " 1600,\n",
       " 1764,\n",
       " 1936,\n",
       " 2116,\n",
       " 2304]"
      ]
     },
     "execution_count": 35,
     "metadata": {},
     "output_type": "execute_result"
    }
   ],
   "source": [
    "# 14. Create a list of squares of even numbers between 1 and 50. \n",
    "list = []\n",
    "for i in range(2,50,2):\n",
    "    list.append(i*i)\n",
    "list"
   ]
  },
  {
   "cell_type": "code",
   "execution_count": 36,
   "id": "fdf69b10-d3ae-4e89-8971-51d7d0b12692",
   "metadata": {},
   "outputs": [
    {
     "data": {
      "text/plain": [
       "[1, 3, 5, 7, 9, 2, 4]"
      ]
     },
     "execution_count": 36,
     "metadata": {},
     "output_type": "execute_result"
    }
   ],
   "source": [
    "# 15. Accept a list and return a new list with only unique elements (preserve order).\n",
    "def uniqueList(list):\n",
    "    newList = []\n",
    "    for i in list:\n",
    "        if i not in newList:\n",
    "            newList.append(i)\n",
    "    return newList\n",
    "list = [1, 3, 5, 3, 7, 9, 1, 5, 2, 9, 4, 5]\n",
    "uniqueList(list)"
   ]
  },
  {
   "cell_type": "markdown",
   "id": "9f251df8-3c02-44d9-a37b-be9f4b3fa8e6",
   "metadata": {},
   "source": [
    "# Section B: Functions"
   ]
  },
  {
   "cell_type": "code",
   "execution_count": 40,
   "id": "4b48d8c0-3f06-4aab-b2d0-8483877bf07c",
   "metadata": {},
   "outputs": [],
   "source": [
    "#16. Write a function to check if a number is even or odd. \n",
    "def evenOdd(n):\n",
    "    if(n%2 == 2):\n",
    "        return \"even\"\n",
    "    else:\n",
    "        return \"odd\""
   ]
  },
  {
   "cell_type": "code",
   "execution_count": null,
   "id": "13e5f8d7-7604-45c8-86ca-e88cea15c50a",
   "metadata": {},
   "outputs": [],
   "source": [
    "# 17. Create a function that takes a list of numbers and returns their cumulative sum. \n",
    "def listSum(list):\n",
    "    sum = 0\n",
    "    for i in list:\n",
    "        sum += i\n",
    "    return sum"
   ]
  },
  {
   "cell_type": "code",
   "execution_count": null,
   "id": "bedd83f0-6231-49d6-8ba3-33197891e40c",
   "metadata": {},
   "outputs": [],
   "source": [
    "# 18. Write a recursive function to find the factorial of a number.\n",
    "def factorial(n):\n",
    "    if n == 2 || n == 1:\n",
    "        return n\n",
    "    return n * factorial(n-1)"
   ]
  },
  {
   "cell_type": "code",
   "execution_count": 46,
   "id": "3ce23f4b-6e14-4455-a9bd-042e747ed5c5",
   "metadata": {},
   "outputs": [
    {
     "data": {
      "text/plain": [
       "8"
      ]
     },
     "execution_count": 46,
     "metadata": {},
     "output_type": "execute_result"
    }
   ],
   "source": [
    "# 19. Write a function to print the Fibonacci series up to n terms.\n",
    "def fibonacci(n):\n",
    "    if n == 1 or n==2:\n",
    "        return n-1\n",
    "    a = 0\n",
    "    b = 1\n",
    "    n = n -2\n",
    "    for i in range(n):\n",
    "        temp = b\n",
    "        b = a+b\n",
    "        a = temp\n",
    "    return b\n",
    "fibonacci(7)"
   ]
  },
  {
   "cell_type": "code",
   "execution_count": 49,
   "id": "14f2851f-ed8d-495b-998c-0cc71df212ad",
   "metadata": {},
   "outputs": [
    {
     "data": {
      "text/plain": [
       "True"
      ]
     },
     "execution_count": 49,
     "metadata": {},
     "output_type": "execute_result"
    }
   ],
   "source": [
    "# 20. Define a function that checks if a given string is a palindrome.\n",
    "def isPalindrome(s):\n",
    "    list = []\n",
    "    n = len(s)\n",
    "    for i in range(n-1, -1, -1):\n",
    "        list.append(s[i])\n",
    "    rev = ''.join(list)                 \n",
    "    return rev==s\n",
    "isPalindrome(\"racecar\")"
   ]
  },
  {
   "cell_type": "code",
   "execution_count": 50,
   "id": "aaf300f7-78df-4b6c-b949-688f21209df0",
   "metadata": {},
   "outputs": [
    {
     "name": "stdout",
     "output_type": "stream",
     "text": [
      "Min =  1\n",
      "Max =  9\n"
     ]
    }
   ],
   "source": [
    "# 21. Create a function that returns the maximum and minimum elements from a list.\n",
    "def minMax(list):\n",
    "    min = list[0] # considering list size atleast 1\n",
    "    max = list[0]\n",
    "    for i in list:\n",
    "        if i<min:\n",
    "            min =i\n",
    "        elif i >max:\n",
    "            max = i\n",
    "    print(\"Min = \", min)\n",
    "    print(\"Max = \", max)\n",
    "list = [1, 3, 5, 3, 7, 9, 1, 5, 2, 9, 4, 5]\n",
    "minMax(list)"
   ]
  },
  {
   "cell_type": "code",
   "execution_count": 55,
   "id": "c200be5f-49ea-4887-b069-6a031ed5e6bb",
   "metadata": {},
   "outputs": [
    {
     "data": {
      "text/plain": [
       "True"
      ]
     },
     "execution_count": 55,
     "metadata": {},
     "output_type": "execute_result"
    }
   ],
   "source": [
    "# 22. Write a function to check whether a string is a pangram. \n",
    "def isPangram(s):\n",
    "    list = []\n",
    "    for i in range(97, 123):\n",
    "        list.append(chr(i))\n",
    "    for text in s:\n",
    "        if text in list:\n",
    "            list.remove(text)\n",
    "    return len(list)==0\n",
    "isPangram(\"The quick brown fox jumps over the lazy dog\")"
   ]
  },
  {
   "cell_type": "code",
   "execution_count": 57,
   "id": "835ab948-2b6a-4653-989e-d8e02ac0da39",
   "metadata": {},
   "outputs": [
    {
     "name": "stdout",
     "output_type": "stream",
     "text": [
      "97\n"
     ]
    }
   ],
   "source": [
    "# 23. Create a function that finds and returns all prime numbers in a given range. \n",
    "# Ok so hear I know Sieve of Eratosthenes which only works if range starts from 1 or 2 but will not work hear\n",
    "def isPrime(n):\n",
    "    if(n<2 or (n != 2 and n%2 == 0)):\n",
    "        return False\n",
    "    Flag = True\n",
    "    for i in range(2, n//2+1):\n",
    "        if(n%i == 0):\n",
    "            return False\n",
    "    return True\n",
    "def primeInRange(a, b):\n",
    "    for i in range(a, b+1):\n",
    "        if isPrime(i):\n",
    "            print(i)\n",
    "primeInRange(90, 100)\n",
    "   "
   ]
  },
  {
   "cell_type": "code",
   "execution_count": null,
   "id": "1ab4228f-d076-42fa-9bae-961cb3793939",
   "metadata": {},
   "outputs": [],
   "source": [
    "# 24. Write a function to return the number of uppercase and lowercase letters in a string.                                                                                                                           \n",
    "def count_case_letters(s):\n",
    "    ucase = 0\n",
    "    lcase = 0\n",
    "\n",
    "    for char in s:\n",
    "        if ord(char)>=65 and ord(char)<=90:\n",
    "            ucase += 1\n",
    "        elif ord(char)>=97 and ord(char)<=122:\n",
    "            lcase += 1\n",
    "\n",
    "    return ucase, lcase                                        \n",
    "  \n",
    "  \n"
   ]
  },
  {
   "cell_type": "code",
   "execution_count": null,
   "id": "630560c7-b155-48ef-b265-7bb70864eee8",
   "metadata": {},
   "outputs": [],
   "source": [
    "# 25. Write a function to compute the sum of digits of a number.                                                                                 \n",
    "def sumOfDigits(n):\n",
    "    total = 0\n",
    "    while n > 0:\n",
    "        total += n % 10  \n",
    "        n = n // 10      \n",
    "    return total\n"
   ]
  },
  {
   "cell_type": "code",
   "execution_count": null,
   "id": "568ef217-de2e-4bde-9c4c-c94e616bfc93",
   "metadata": {},
   "outputs": [],
   "source": [
    "# 26. Write a function to count words in a sentence.                                                               \n",
    "def countWords(sentence):\n",
    "    words = sentence.split() \n",
    "    return len(words)\n"
   ]
  },
  {
   "cell_type": "code",
   "execution_count": null,
   "id": "f686c06a-3afd-4151-be6e-affe74119304",
   "metadata": {},
   "outputs": [],
   "source": [
    "# 27. Create a function to remove all punctuation from a string.                                                                                                                                             \n",
    "def removePunctuation(text):\n",
    "    result = ''\n",
    "    for char in text:\n",
    "        if char not in string.punctuation:\n",
    "            result += char\n",
    "    return result"
   ]
  },
  {
   "cell_type": "code",
   "execution_count": null,
   "id": "3089485b-3b84-4271-9a4f-5b519b5071bf",
   "metadata": {},
   "outputs": [],
   "source": [
    "# 28. Create a function that finds the GCD (greatest common divisor) of two numbers.                                                                                                                         \n",
    "def gcd(a, b):\n",
    "    while b != 0:\n",
    "        a = b\n",
    "        b = a % b\n",
    "    return a\n"
   ]
  },
  {
   "cell_type": "code",
   "execution_count": null,
   "id": "53d4bde0-7b8d-4923-8256-197553f8884b",
   "metadata": {},
   "outputs": [],
   "source": [
    "# 29. Write a function that takes a list and returns only those elements that appear more than once.                                                                                                    \n",
    "def findDuplicates(lst):\n",
    "    freq = {}\n",
    "    duplicates = []\n",
    "\n",
    "    for item in lst:\n",
    "        if item in freq:\n",
    "            freq[item] += 1\n",
    "        else:\n",
    "            freq[item] = 1\n",
    "\n",
    "    for item, count in freq.items():\n",
    "        if count > 1:\n",
    "            duplicates.append(item)\n",
    "\n",
    "    return duplicates\n"
   ]
  },
  {
   "cell_type": "code",
   "execution_count": 39,
   "id": "15f3f0b6-8db6-44bd-9be0-1c4afcc5da96",
   "metadata": {},
   "outputs": [
    {
     "data": {
      "text/plain": [
       "3"
      ]
     },
     "execution_count": 39,
     "metadata": {},
     "output_type": "execute_result"
    }
   ],
   "source": [
    "# 30. Create a function to return the largest of three numbers.\n",
    "def largest(a,b,c):\n",
    "    if(a>=b and a>=c):\n",
    "        return a\n",
    "    elif (b>=a and b>=c):\n",
    "        return b\n",
    "    else:\n",
    "        return c\n",
    "largest(1,2,3)"
   ]
  },
  {
   "cell_type": "markdown",
   "id": "a153eb05-2d1c-403d-95c4-84ea37bbca45",
   "metadata": {},
   "source": [
    "# Section C: String, List, Dictionary & Tuple Operations"
   ]
  },
  {
   "cell_type": "code",
   "execution_count": null,
   "id": "d647300d-4ceb-4759-8a34-3a054b2b8343",
   "metadata": {},
   "outputs": [],
   "source": [
    "# 31. Write a program to sort words in a sentence alphabetically.                                                            \n",
    "def sortWords(sentence):\n",
    "    words = sentence.split()\n",
    "    words.sort()\n",
    "    s = ' '.join(words)\n",
    "    return s\n"
   ]
  },
  {
   "cell_type": "code",
   "execution_count": null,
   "id": "bc4df3a3-0424-4441-a62c-b7428304a458",
   "metadata": {},
   "outputs": [],
   "source": [
    "# 32. Concatenate two dictionaries and print the result.\n",
    "def concatenateDicts(dict1, dict2):\n",
    "    result = dict1.copy()\n",
    "    result.update(dict2)\n",
    "    return result\n",
    "\n",
    "d1 = {'a': 1, 'b': 2}\n",
    "d2 = {'c': 3, 'd': 4}\n",
    "print(concatenateDicts(d1, d2))\n"
   ]
  },
  {
   "cell_type": "code",
   "execution_count": null,
   "id": "4d7d0b70-84a3-493a-95a5-43e98a25e0f3",
   "metadata": {},
   "outputs": [],
   "source": [
    "# 33. Count how many vowels are present in each word of a sentence. \n",
    "def countVowelsInWords(sentence):\n",
    "    vowels = 'aeiouAEIOU'\n",
    "    result = {}\n",
    "    words = sentence.split()\n",
    "\n",
    "    for word in words:\n",
    "        count = sum(1 for char in word if char in vowels)\n",
    "        result[word] = count\n",
    "\n",
    "    return result\n"
   ]
  },
  {
   "cell_type": "code",
   "execution_count": null,
   "id": "48ba97e9-2ab2-4024-839d-127c98477be4",
   "metadata": {},
   "outputs": [],
   "source": [
    "# 34. Accept a tuple and convert it into a list. \n",
    "def tupleToList(tup):\n",
    "    return list(tup)\n",
    "\n",
    "print(tupleToList((1, 2, 3, 4)))\n"
   ]
  },
  {
   "cell_type": "code",
   "execution_count": null,
   "id": "bea05adb-c14a-4494-bf18-67d86fecb17d",
   "metadata": {},
   "outputs": [],
   "source": [
    "# 35. Remove all whitespace from a given string using a function.\n",
    "def removeWhitespace(text):\n",
    "    return ''.join(text.split())\n",
    "\n",
    "print(removeWhitespace(\"  Hello   World  !  \"))\n"
   ]
  },
  {
   "cell_type": "code",
   "execution_count": null,
   "id": "fc010f6f-77e9-43a3-8de1-14714d2846fc",
   "metadata": {},
   "outputs": [],
   "source": [
    "# 36. Merge two lists into a dictionary using one as keys and the other as values. \n",
    "def mergeListsToDict(keys, values):\n",
    "    return dict(zip(keys, values))\n",
    "\n",
    "keys = ['a', 'b', 'c']\n",
    "values = [1, 2, 3]\n",
    "print(mergeListsToDict(keys, values))\n"
   ]
  },
  {
   "cell_type": "code",
   "execution_count": null,
   "id": "3bc91576-4f31-4ff3-9c8f-06e4743caad5",
   "metadata": {},
   "outputs": [],
   "source": [
    "# 37. Write a program to get the key with the maximum value in a dictionary. \n",
    "def keyWithMaxValue(d):\n",
    "    return max(d, key=d.get)\n",
    "\n",
    "data = {'a': 10, 'b': 25, 'c': 5}\n",
    "print(keyWithMaxValue(data))\n"
   ]
  },
  {
   "cell_type": "code",
   "execution_count": null,
   "id": "9d4b970b-cb53-4923-a0dc-f57db0da245c",
   "metadata": {},
   "outputs": [],
   "source": [
    "# 38. Accept a string and print a dictionary with word frequencies.\n",
    "def wordFrequencies(text):\n",
    "    words = text.split()\n",
    "    freq = {}\n",
    "\n",
    "    for word in words:\n",
    "        freq[word] = freq.get(word, 0) + 1\n",
    "\n",
    "    return freq\n",
    "\n",
    "print(wordFrequencies(\"this is a test this is only a test\"))\n"
   ]
  },
  {
   "cell_type": "code",
   "execution_count": null,
   "id": "cbe5eb8e-9624-479d-8f6e-f1c5ec91db62",
   "metadata": {},
   "outputs": [],
   "source": [
    "# 39. Write a program to check if a key exists in a dictionary. \n",
    "def keyExists(d, key):\n",
    "    return key in d\n",
    "\n",
    "\n",
    "my_dict = {'name': 'Alice', 'age': 25, 'city': 'Delhi'}\n",
    "\n",
    "print(keyExists(my_dict, 'age'))\n",
    "print(keyExists(my_dict, 'gender'))\n"
   ]
  },
  {
   "cell_type": "code",
   "execution_count": null,
   "id": "c1b8cb1f-0298-48bd-941f-25d90d6bd52e",
   "metadata": {},
   "outputs": [],
   "source": [
    "# 40. Write a program to replace all the vowels in a string with '*'\n",
    "def replaceVowels(text):\n",
    "    vowels = 'aeiouAEIOU'\n",
    "    result = ''\n",
    "    for char in text:\n",
    "        if char in vowels:\n",
    "            result += '*'\n",
    "        else:\n",
    "            result += char\n",
    "    return result\n",
    "\n",
    "print(replaceVowels(\"Hello World\"))  \n"
   ]
  },
  {
   "cell_type": "markdown",
   "id": "0db1e217-9735-41b5-8711-44c8c85458a6",
   "metadata": {},
   "source": [
    "# Section D: File Handling "
   ]
  },
  {
   "cell_type": "code",
   "execution_count": null,
   "id": "a9192433-3927-4c9b-992e-bb9c7ffcfba7",
   "metadata": {},
   "outputs": [],
   "source": [
    "# 41. Write a Python program to read the contents of a file and display it. \n",
    "def readFile(filename):\n",
    "    with open(filename, 'r') as file:\n",
    "        contents = file.read()\n",
    "        print(contents)\n",
    "\n",
    "readFile(\"example.txt\")                                    "
   ]
  },
  {
   "cell_type": "code",
   "execution_count": null,
   "id": "1274072f-b533-4b97-9a94-4c4058bfd784",
   "metadata": {},
   "outputs": [],
   "source": [
    "# 42. Count the number of words in a file. \n",
    "def countWordsInFile(filename):\n",
    "    with open(filename, 'r') as file:\n",
    "        text = file.read()\n",
    "        words = text.split()\n",
    "        return len(words)\n",
    "\n",
    "print(countWordsInFile(\"example.txt\"))\n"
   ]
  },
  {
   "cell_type": "code",
   "execution_count": null,
   "id": "0ea1be83-1778-4823-bc4f-41cbfcaecc47",
   "metadata": {},
   "outputs": [],
   "source": [
    "# 43. Copy contents of one file to another. \n",
    "def copyFile(source, destination):\n",
    "    with open(source, 'r') as src:\n",
    "        content = src.read()\n",
    "\n",
    "    with open(destination, 'w') as dest:\n",
    "        dest.write(content)\n",
    "\n",
    "copyFile(\"source.txt\", \"destination.txt\")\n"
   ]
  },
  {
   "cell_type": "code",
   "execution_count": null,
   "id": "1d16925e-489b-47e1-b6bf-d5db34ecc5df",
   "metadata": {},
   "outputs": [],
   "source": [
    "# 44. Print only the lines that have more than 50 characters from a text file. \n",
    "def printLongLines(filename):\n",
    "    with open(filename, 'r') as file:\n",
    "        for line in file:\n",
    "            if len(line.strip()) > 50:\n",
    "                print(line.strip())\n",
    "\n",
    "printLongLines(\"example.txt\")\n"
   ]
  },
  {
   "cell_type": "code",
   "execution_count": 66,
   "id": "6f23c25c-e3ed-493c-8060-c5ce1c04c7be",
   "metadata": {},
   "outputs": [],
   "source": [
    "# 45. Write a program to write a list of strings into a text file (one string per line).\n",
    "def writeListToFile(lines, filename):\n",
    "    with open(filename, 'w') as file:\n",
    "        for line in lines:\n",
    "            file.write(line + '\\n')\n",
    "\n",
    "lines = [\"Hello\", \"This is line two\", \"Python is awesome!\"]\n",
    "writeListToFile(lines, \"output.txt\")\n"
   ]
  },
  {
   "cell_type": "markdown",
   "id": "549a07c6-2661-4a73-a6f0-5c91bb21d91a",
   "metadata": {},
   "source": [
    "# Section E: Exception Handling"
   ]
  },
  {
   "cell_type": "code",
   "execution_count": 59,
   "id": "57f6ae5b-13a0-4317-89e9-12439de73ce5",
   "metadata": {},
   "outputs": [
    {
     "name": "stdin",
     "output_type": "stream",
     "text": [
      "Enter first number:  5\n",
      "Enter second number:  0\n"
     ]
    },
    {
     "name": "stdout",
     "output_type": "stream",
     "text": [
      "Error: Cannot divide by zero.\n"
     ]
    }
   ],
   "source": [
    "# 46. Write a program to take two numbers as input and handle division by zero. \n",
    "def divideNumbers():\n",
    "    try:\n",
    "        a = int(input(\"Enter first number: \"))\n",
    "        b = int(input(\"Enter second number: \"))\n",
    "        result = a / b\n",
    "        print(\"Result:\", result)\n",
    "    except ZeroDivisionError:\n",
    "        print(\"Error: Cannot divide by zero.\")\n",
    "\n",
    "divideNumbers()\n"
   ]
  },
  {
   "cell_type": "code",
   "execution_count": 65,
   "id": "4e90ac10-5881-485f-a781-4254c87a6c83",
   "metadata": {},
   "outputs": [
    {
     "name": "stdin",
     "output_type": "stream",
     "text": [
      "Enter a number:  \"Hello\"\n"
     ]
    },
    {
     "name": "stdout",
     "output_type": "stream",
     "text": [
      "Error: Invalid input. Please enter a number.\n"
     ]
    }
   ],
   "source": [
    "# 47. Handle invalid user input (e.g., entering a string when a number is expected).\n",
    "def safeInput():\n",
    "    try:\n",
    "        num = int(input(\"Enter a number: \"))\n",
    "        print(\"You entered:\", num)\n",
    "    except ValueError:\n",
    "        print(\"Error: Invalid input. Please enter a number.\")\n",
    "\n",
    "safeInput()\n"
   ]
  },
  {
   "cell_type": "code",
   "execution_count": 64,
   "id": "b316013b-63db-46c1-98ff-08629eb67969",
   "metadata": {},
   "outputs": [
    {
     "name": "stdout",
     "output_type": "stream",
     "text": [
      "Error: File not found. It seems like file doesn't exist\n"
     ]
    }
   ],
   "source": [
    "# 48. Try to open a file that doesn’t exist and handle the FileNotFoundError. \n",
    "def openFile(filename):\n",
    "    try:\n",
    "        with open(filename, 'r') as f:\n",
    "            print(f.read())\n",
    "    except FileNotFoundError:\n",
    "        print(\"Error: File not found. It seems like file doesn't exist\")\n",
    "\n",
    "openFile(\"nonexistent.txt\")\n"
   ]
  },
  {
   "cell_type": "code",
   "execution_count": 63,
   "id": "8bdb7c56-88bf-4169-8fd3-b9b5a2c4a15d",
   "metadata": {},
   "outputs": [
    {
     "name": "stdout",
     "output_type": "stream",
     "text": [
      "Error: Index out of range.\n"
     ]
    }
   ],
   "source": [
    "# 49. Create a list of numbers and try accessing an invalid index. Handle the exception gracefully. \n",
    "def accessInvalidIndex():\n",
    "    numbers = [10, 20, 30]\n",
    "    try:\n",
    "        print(numbers[5])\n",
    "    except IndexError:\n",
    "        print(\"Error: Index out of range.\")\n",
    "\n",
    "accessInvalidIndex()\n"
   ]
  },
  {
   "cell_type": "code",
   "execution_count": 61,
   "id": "529ebf7b-0149-48c7-807a-9e02e83adcb8",
   "metadata": {},
   "outputs": [
    {
     "name": "stdin",
     "output_type": "stream",
     "text": [
      "Enter a number:  0\n"
     ]
    },
    {
     "name": "stdout",
     "output_type": "stream",
     "text": [
      "Cannot divide by zero.\n",
      "This block always executes.\n"
     ]
    }
   ],
   "source": [
    "# 50. Use a try-except-finally block to demonstrate the execution of the finally clause. \n",
    "def demonstrateFinally():\n",
    "    try:\n",
    "        x = int(input(\"Enter a number: \"))\n",
    "        y = 10 / x\n",
    "    except ZeroDivisionError:\n",
    "        print(\"Cannot divide by zero.\")\n",
    "    finally:\n",
    "        print(\"This block always executes. No matter what\")\n",
    "\n",
    "demonstrateFinally()\n"
   ]
  },
  {
   "cell_type": "code",
   "execution_count": null,
   "id": "9c74602c-cc76-4c25-a7df-169cb6384543",
   "metadata": {},
   "outputs": [],
   "source": []
  }
 ],
 "metadata": {
  "kernelspec": {
   "display_name": "Python 3 (ipykernel)",
   "language": "python",
   "name": "python3"
  },
  "language_info": {
   "codemirror_mode": {
    "name": "ipython",
    "version": 3
   },
   "file_extension": ".py",
   "mimetype": "text/x-python",
   "name": "python",
   "nbconvert_exporter": "python",
   "pygments_lexer": "ipython3",
   "version": "3.10.11"
  }
 },
 "nbformat": 4,
 "nbformat_minor": 5
}
