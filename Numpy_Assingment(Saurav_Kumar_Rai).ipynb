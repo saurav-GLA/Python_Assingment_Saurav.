{
 "cells": [
  {
   "cell_type": "markdown",
   "id": "9f3c9ab5-78a0-4130-b863-f1e7616f7b94",
   "metadata": {},
   "source": [
    "# Numpy Assingment(Saurav Kumar Rai)"
   ]
  },
  {
   "cell_type": "markdown",
   "id": "400f622d-93b2-4b30-8b59-5ebc9795aa8e",
   "metadata": {},
   "source": [
    "# Data Types & Attributes"
   ]
  },
  {
   "cell_type": "code",
   "execution_count": 39,
   "id": "4ff3ac61-e7cc-4611-95a5-aff84752a81d",
   "metadata": {},
   "outputs": [],
   "source": [
    "import numpy as np"
   ]
  },
  {
   "cell_type": "code",
   "execution_count": 40,
   "id": "27dc4d8b-3b96-41cd-a802-5d5467cf9e57",
   "metadata": {},
   "outputs": [
    {
     "name": "stdout",
     "output_type": "stream",
     "text": [
      "Data type of arr1: int64\n"
     ]
    }
   ],
   "source": [
    "# 1. Create a NumPy array arr of integers from 0 to 5 and print its data type.\n",
    "arr1 = np.arange(6)\n",
    "print(\"Data type of arr1:\", arr1.dtype)"
   ]
  },
  {
   "cell_type": "code",
   "execution_count": 41,
   "id": "c40bebef-d128-4d5e-883b-cbc10456df8c",
   "metadata": {},
   "outputs": [
    {
     "name": "stdout",
     "output_type": "stream",
     "text": [
      "Is arr2 float64? True\n"
     ]
    }
   ],
   "source": [
    "# 2. Given a NumPy array arr, check if its data type is float64.\n",
    "def isFloat64(arr):\n",
    "    return arr.dtype == np.float64\n",
    "arr2 = np.array([1.0, 2.0, 3.0])\n",
    "print(\"Is arr2 float64?\", isFloat64(arr2))"
   ]
  },
  {
   "cell_type": "code",
   "execution_count": 42,
   "id": "ae529a93-8c51-4b92-8daf-8fc73c3c7d5f",
   "metadata": {},
   "outputs": [
    {
     "name": "stdout",
     "output_type": "stream",
     "text": [
      "Complex128 array: [1.+2.j 3.+4.j 5.+6.j]\n"
     ]
    }
   ],
   "source": [
    "# 3. Create a NumPy array arr with a data type of complex128 containing three complex numbers.\n",
    "arr3 = np.array([1+2j, 3+4j, 5+6j], dtype=np.complex128)\n",
    "print(\"Complex128 array:\", arr3)"
   ]
  },
  {
   "cell_type": "code",
   "execution_count": 43,
   "id": "803373af-2af9-4966-8d35-5e08c5d026d3",
   "metadata": {},
   "outputs": [
    {
     "name": "stdout",
     "output_type": "stream",
     "text": [
      "Converted to float32: [10. 20. 30.] Type: float32\n"
     ]
    }
   ],
   "source": [
    "# 4. Convert an existing NumPy array arr of integers to float32 data type.\n",
    "arr4 = np.array([10, 20, 30])\n",
    "arr4Float32 = arr4.astype(np.float32)\n",
    "print(\"Converted to float32:\", arr4Float32, \"Type:\", arr4Float32.dtype)"
   ]
  },
  {
   "cell_type": "code",
   "execution_count": 44,
   "id": "96afa893-4b03-40d4-86e8-4adf1cc194c3",
   "metadata": {},
   "outputs": [
    {
     "name": "stdout",
     "output_type": "stream",
     "text": [
      "Float64 to Float32: [1.1234568 2.9876542] Type: float32\n"
     ]
    }
   ],
   "source": [
    "# 5. Convert float64 array to float32\n",
    "arr5 = np.array([1.123456789, 2.987654321], dtype=np.float64) # Generally in my jupyter notebook it is represented in float64\n",
    "arr5Float32 = arr5.astype(np.float32)\n",
    "print(\"Float64 to Float32:\", arr5Float32, \"Type:\", arr5Float32.dtype)"
   ]
  },
  {
   "cell_type": "code",
   "execution_count": 45,
   "id": "64b519a6-4adf-48f7-89fb-258d3e8420ce",
   "metadata": {},
   "outputs": [
    {
     "name": "stdout",
     "output_type": "stream",
     "text": [
      "Attributes of arr5: ((2,), 2, dtype('float64'))\n"
     ]
    }
   ],
   "source": [
    "# 6. Function to return shape, size, and data type\n",
    "def arrayAttributes(arr):\n",
    "    return arr.shape, arr.size, arr.dtype\n",
    "print(\"Attributes of arr5:\", arrayAttributes(arr5))"
   ]
  },
  {
   "cell_type": "code",
   "execution_count": 46,
   "id": "582bccdf-d9e7-410f-8ad1-2800db9bfaea",
   "metadata": {},
   "outputs": [
    {
     "name": "stdout",
     "output_type": "stream",
     "text": [
      "Dimensionality of arr5: 1\n"
     ]
    }
   ],
   "source": [
    "# 7. Function to return dimensionality of a NumPy array\n",
    "def arrayDimension(arr):\n",
    "    return arr.ndim\n",
    "print(\"Dimensionality of arr5:\", arrayDimension(arr5))"
   ]
  },
  {
   "cell_type": "code",
   "execution_count": 47,
   "id": "8ec704d5-3eb3-4b7b-a143-d16aff04ca10",
   "metadata": {},
   "outputs": [
    {
     "name": "stdout",
     "output_type": "stream",
     "text": [
      "Item size and total size of arr5: (8, 16)\n"
     ]
    }
   ],
   "source": [
    "# 8. Function to return item size and total size in bytes\n",
    "def itemSizeInfo(arr):\n",
    "    return arr.itemsize, arr.nbytes\n",
    "print(\"Item size and total size of arr5:\", itemSizeInfo(arr5))"
   ]
  },
  {
   "cell_type": "code",
   "execution_count": 48,
   "id": "0ffb296a-c247-4fd6-b63d-3518fad2c312",
   "metadata": {},
   "outputs": [
    {
     "name": "stdout",
     "output_type": "stream",
     "text": [
      "Strides of arr9: (24, 8)\n"
     ]
    }
   ],
   "source": [
    "# 9. Function to return the strides of the given NumPy array\n",
    "def arrayStrides(arr):\n",
    "    return arr.strides\n",
    "arr9 = np.array([[1, 2, 3], [4, 5, 6]])\n",
    "print(\"Strides of arr9:\", arrayStrides(arr9))"
   ]
  },
  {
   "cell_type": "code",
   "execution_count": 49,
   "id": "9aa8f664-acc4-4d8b-a103-7badcc1340b2",
   "metadata": {},
   "outputs": [
    {
     "name": "stdout",
     "output_type": "stream",
     "text": [
      "Shape and Strides of arr9: ((2, 3), (24, 8))\n"
     ]
    }
   ],
   "source": [
    "# 10. Function to return both shape and strides of the given NumPy array\n",
    "def shapeStrideRelationship(arr):\n",
    "    return arr.shape, arr.strides\n",
    "print(\"Shape and Strides of arr9:\", shapeStrideRelationship(arr9))"
   ]
  },
  {
   "cell_type": "markdown",
   "id": "99d3cb4a-f4eb-4327-955a-0a5ca49493eb",
   "metadata": {},
   "source": [
    "# Array Creation"
   ]
  },
  {
   "cell_type": "code",
   "execution_count": 50,
   "id": "c1a90cbf-16db-4041-a459-ff1b3f5575b4",
   "metadata": {},
   "outputs": [
    {
     "name": "stdout",
     "output_type": "stream",
     "text": [
      "Zeros array of length 5: [0. 0. 0. 0. 0.]\n"
     ]
    }
   ],
   "source": [
    "# 11. Create a function to return a NumPy array of zeros with n elements\n",
    "def createZerosArray(n):\n",
    "    return np.zeros(n)\n",
    "print(\"Zeros array of length 5:\", createZerosArray(5))"
   ]
  },
  {
   "cell_type": "code",
   "execution_count": 51,
   "id": "a30e02f6-67ef-403c-9860-22be2420b5d0",
   "metadata": {},
   "outputs": [
    {
     "name": "stdout",
     "output_type": "stream",
     "text": [
      "Ones matrix of size 3x4:\n",
      " [[1. 1. 1. 1.]\n",
      " [1. 1. 1. 1.]\n",
      " [1. 1. 1. 1.]]\n"
     ]
    }
   ],
   "source": [
    "# 12. Create a 2D array filled with ones\n",
    "def createOnesMatrix(rows, cols):\n",
    "    return np.ones((rows, cols))\n",
    "print(\"Ones matrix of size 3x4:\\n\", createOnesMatrix(3, 4))"
   ]
  },
  {
   "cell_type": "code",
   "execution_count": 52,
   "id": "676e3748-0174-4927-b530-708e70785cae",
   "metadata": {},
   "outputs": [
    {
     "name": "stdout",
     "output_type": "stream",
     "text": [
      "Range array from 2 to 10 with step 2: [2 4 6 8]\n"
     ]
    }
   ],
   "source": [
    "# 13. Create a ranged NumPy array using start, stop, and step\n",
    "def generateRangeArray(start, stop, step):\n",
    "    return np.arange(start, stop, step)\n",
    "print(\"Range array from 2 to 10 with step 2:\", generateRangeArray(2, 10, 2))"
   ]
  },
  {
   "cell_type": "code",
   "execution_count": 53,
   "id": "c6af8d56-a9bf-48e5-98ce-195905da1017",
   "metadata": {},
   "outputs": [
    {
     "name": "stdout",
     "output_type": "stream",
     "text": [
      "Linear space: [ 0.   2.5  5.   7.5 10. ]\n"
     ]
    }
   ],
   "source": [
    "# 14. Generate equally spaced values\n",
    "def generateLinearSpace(start, stop, num):\n",
    "    return np.linspace(start, stop, num)\n",
    "\n",
    "print(\"Linear space:\", generateLinearSpace(0, 10, 5))"
   ]
  },
  {
   "cell_type": "code",
   "execution_count": 54,
   "id": "0c507a54-43ff-439a-8b04-0fd99fee0c4d",
   "metadata": {},
   "outputs": [
    {
     "name": "stdout",
     "output_type": "stream",
     "text": [
      "Identity matrix:\n",
      " [[1. 0. 0. 0.]\n",
      " [0. 1. 0. 0.]\n",
      " [0. 0. 1. 0.]\n",
      " [0. 0. 0. 1.]]\n"
     ]
    }
   ],
   "source": [
    "# 15. Create identity matrix\n",
    "def createIdentityMatrix(n): #very easy math concept very cool to be able to code this\n",
    "    return np.eye(n)\n",
    "\n",
    "print(\"Identity matrix:\\n\", createIdentityMatrix(4))"
   ]
  },
  {
   "cell_type": "code",
   "execution_count": 55,
   "id": "222545cd-6b54-4456-a8da-ca6e93122cd1",
   "metadata": {},
   "outputs": [
    {
     "name": "stdout",
     "output_type": "stream",
     "text": [
      "Converted list: [1 2 3]\n"
     ]
    }
   ],
   "source": [
    "# 16. Convert Python list to NumPy array\n",
    "def listToNumpyArray(lst): #numpy array is much better than list of python not good for time complexity so this function can actully be useful\n",
    "    return np.array(lst)\n",
    "\n",
    "print(\"Converted list:\", listToNumpyArray([1, 2, 3]))"
   ]
  },
  {
   "cell_type": "code",
   "execution_count": 56,
   "id": "c3ffa1a4-f333-42eb-a9f6-6411520fa27a",
   "metadata": {},
   "outputs": [
    {
     "name": "stdout",
     "output_type": "stream",
     "text": [
      "Original: [10 20 30] | View: [10 20 30]\n"
     ]
    }
   ],
   "source": [
    "# 17. Create a view of a NumPy array\n",
    "def createView(arr):\n",
    "    return arr.view()\n",
    "\n",
    "arr17 = np.array([10, 20, 30])\n",
    "view17 = createView(arr17)\n",
    "print(\"Original:\", arr17, \"| View:\", view17)"
   ]
  },
  {
   "cell_type": "markdown",
   "id": "f7318175-f55c-4130-9079-a4349268b266",
   "metadata": {},
   "source": [
    "# Concatenation and Stacking"
   ]
  },
  {
   "cell_type": "code",
   "execution_count": 57,
   "id": "68f3f07f-79e3-4a75-a9de-261962fdba22",
   "metadata": {},
   "outputs": [
    {
     "name": "stdout",
     "output_type": "stream",
     "text": [
      "Concatenated:\n",
      " [[1 2]\n",
      " [3 4]\n",
      " [5 6]\n",
      " [7 8]]\n"
     ]
    }
   ],
   "source": [
    "# 18. Concatenate two arrays along an axis\n",
    "def concatenateArrays(arr1, arr2, axis=0):\n",
    "    return np.concatenate((arr1, arr2), axis=axis)\n",
    "\n",
    "a1 = np.array([[1, 2], [3, 4]])\n",
    "a2 = np.array([[5, 6], [7, 8]])\n",
    "print(\"Concatenated:\\n\", concatenateArrays(a1, a2, axis=0))"
   ]
  },
  {
   "cell_type": "code",
   "execution_count": 58,
   "id": "61432eb5-acd5-4ad1-b82c-e4fed5c991cc",
   "metadata": {},
   "outputs": [
    {
     "name": "stdout",
     "output_type": "stream",
     "text": [
      "Horizontal concat diff shape:\n",
      " [[1 4]\n",
      " [2 5]\n",
      " [3 6]]\n"
     ]
    }
   ],
   "source": [
    "# 19. Concatenate arrays with different shapes horizontally\n",
    "def horizontalConcatenateDiffShapes(a, b):\n",
    "    return np.concatenate((a.reshape(-1, 1), b.reshape(-1, 1)), axis=1)\n",
    "\n",
    "a = np.array([1, 2, 3])\n",
    "b = np.array([4, 5, 6])\n",
    "print(\"Horizontal concat diff shape:\\n\", horizontalConcatenateDiffShapes(a, b))"
   ]
  },
  {
   "cell_type": "code",
   "execution_count": 59,
   "id": "9e5be50f-9fd3-456d-ae2e-d7a00f3df5ba",
   "metadata": {},
   "outputs": [
    {
     "name": "stdout",
     "output_type": "stream",
     "text": [
      "Vertically stacked:\n",
      " [[1 2 3]\n",
      " [4 5 6]]\n"
     ]
    }
   ],
   "source": [
    "# 20. Vertically stack multiple arrays\n",
    "def verticalStack(arr_list):\n",
    "    return np.vstack(arr_list)\n",
    "\n",
    "print(\"Vertically stacked:\\n\", verticalStack([a, b]))"
   ]
  },
  {
   "cell_type": "markdown",
   "id": "60146085-7603-4cd9-8b64-3e3afee3d64d",
   "metadata": {},
   "source": [
    "# Array Generation"
   ]
  },
  {
   "cell_type": "code",
   "execution_count": 60,
   "id": "b308acc3-5bf6-4842-b095-e0560967b828",
   "metadata": {},
   "outputs": [
    {
     "name": "stdout",
     "output_type": "stream",
     "text": [
      "Integer range: [1 3 5 7 9]\n"
     ]
    }
   ],
   "source": [
    "# 21. Generate range array with step (inclusive)\n",
    "def generateIntegerRange(start, stop, step):\n",
    "    return np.arange(start, stop + 1, step)\n",
    "\n",
    "print(\"Integer range:\", generateIntegerRange(1, 10, 2))"
   ]
  },
  {
   "cell_type": "code",
   "execution_count": 61,
   "id": "3f54b02f-37c7-489f-bd86-19c8e6bdc93b",
   "metadata": {},
   "outputs": [
    {
     "name": "stdout",
     "output_type": "stream",
     "text": [
      "Equally spaced [0,1]: [0.         0.11111111 0.22222222 0.33333333 0.44444444 0.55555556\n",
      " 0.66666667 0.77777778 0.88888889 1.        ]\n"
     ]
    }
   ],
   "source": [
    "# 22. Generate 10 equally spaced values between 0 and 1\n",
    "arr22 = np.linspace(0, 1, 10) # actully this function can seprate any value in equal spaces as sir taught us\n",
    "print(\"Equally spaced [0,1]:\", arr22)"
   ]
  },
  {
   "cell_type": "code",
   "execution_count": 62,
   "id": "fd446ce5-19af-4914-ba5a-c9875ffc902e",
   "metadata": {},
   "outputs": [
    {
     "name": "stdout",
     "output_type": "stream",
     "text": [
      "Log-spaced: [   1.            5.62341325   31.6227766   177.827941   1000.        ]\n"
     ]
    }
   ],
   "source": [
    "# 23. Generate logarithmically spaced values\n",
    "arr23 = np.logspace(0, 3, 5)  # from 10^0=1 to 10^3=1000 jsut saying\n",
    "print(\"Log-spaced:\", arr23)"
   ]
  },
  {
   "cell_type": "markdown",
   "id": "41a176d6-f9d4-49da-b4b3-ef36047352b7",
   "metadata": {},
   "source": [
    "# I think till today questions were only about numpy and deadline of submitting Questions till panda is sunday so I only did till 23 I'll submit rest by sunday of panda"
   ]
  }
 ],
 "metadata": {
  "kernelspec": {
   "display_name": "Python 3 (ipykernel)",
   "language": "python",
   "name": "python3"
  },
  "language_info": {
   "codemirror_mode": {
    "name": "ipython",
    "version": 3
   },
   "file_extension": ".py",
   "mimetype": "text/x-python",
   "name": "python",
   "nbconvert_exporter": "python",
   "pygments_lexer": "ipython3",
   "version": "3.10.11"
  }
 },
 "nbformat": 4,
 "nbformat_minor": 5
}
